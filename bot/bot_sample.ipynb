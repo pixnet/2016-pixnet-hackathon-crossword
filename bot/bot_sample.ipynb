{
 "cells": [
  {
   "cell_type": "markdown",
   "metadata": {
    "collapsed": false
   },
   "source": [
    "# PIXNET A.I. Cloze Bot Sample Code"
   ]
  },
  {
   "cell_type": "code",
   "execution_count": null,
   "metadata": {
    "collapsed": false
   },
   "outputs": [],
   "source": [
    "# coding=UTF-8\n",
    "\n",
    "import sys, os, datetime, time, re\n",
    "import random\n",
    "from slackbot import bot\n",
    "\n",
    "# 請預先將主辦單位分發的 Bot token 設成環境變數，以避免放置在程式中有外流之疑慮\n",
    "TOKEN_GOGOBOT = os.environ['MY_BOT']\n",
    "bot.settings.API_TOKEN  = TOKEN_MYBOT\n",
    "# testonetwothree 的 Channel ID \n",
    "CHANNEL_ID = \"C1QQG5SJG\" \n",
    "# 算分 Bot 的 ID\n",
    "PIX_INSPECTOR = \"U1QDCHJ3H\"\n",
    "bot.settings.DEFAULT_REPLY = \"Sorry but I didn't understand you\"\n",
    "\n",
    "from slackbot.bot import Bot\n",
    "from slackbot.bot import respond_to\n",
    "from slackbot.bot import listen_to"
   ]
  },
  {
   "cell_type": "markdown",
   "metadata": {},
   "source": [
    "##  Main Start Function"
   ]
  },
  {
   "cell_type": "code",
   "execution_count": null,
   "metadata": {
    "collapsed": true
   },
   "outputs": [],
   "source": [
    "def main():\n",
    "    bot = Bot()\n",
    "    bot.run()"
   ]
  },
  {
   "cell_type": "markdown",
   "metadata": {},
   "source": [
    "## Message Handler"
   ]
  },
  {
   "cell_type": "code",
   "execution_count": null,
   "metadata": {
    "collapsed": false
   },
   "outputs": [],
   "source": [
    "ANSWER_LIST = []\n",
    "\n",
    "## 取得 quizmaster 丟出的題目字串，解析出問題及選項\n",
    "@listen_to(unicode(\"題目\", 'utf-8') + ' (.*)', re.DOTALL)\n",
    "def receive_question(message, question):\n",
    "    if message._client.users[message._get_user_id()][u'name'] == \"quizmaster\":\n",
    "        m = re.match('\\[(\\d+)\\] (.*) \\\\t### (.*) \\[END\\]', question_string)\n",
    "        quiz_no = int(m.group(1))\n",
    "        question = m.group(2)\n",
    "        options = {}\n",
    "        for item in m.group(3).split(','):\n",
    "            index, value = item.split(':')\n",
    "            options[index] = value\n",
    "        # 可在此呼叫自定義算法，透過題目(question)、選項(options)，計算出該題答案，本範例為 random 一個答案\n",
    "        ANSWER_LIST.append(random.choice(options.keys()))\n",
    "\n",
    "## 當 quizmaster 丟出 \"機器人小朋友請搶答\"，請儘速把答案丟到 channel     \n",
    "@listen_to(unicode(\"機器人小朋友請搶答\", 'utf-8') +'$')\n",
    "def hello_send(message):\n",
    "    if message._client.users[message._get_user_id()][u'name'] == \"quizmaster\":\n",
    "        reply_ans = \"\"\n",
    "        for idx, ans in enumerate(ANSWER_LIST):\n",
    "            reply_ans += str(idx + 1) + \" : \" + ans + \", \"\n",
    "        message.send(\"<@%s>: %s %s\" % (PIX_INSPECTOR, unicode(\"請給分 \", 'utf-8'), reply_ans[:-2]))\n",
    "        ANSWER_LIST[:] = []\n",
    "        \n",
    "# 幫按讚\n",
    "@listen_to(unicode(\"題號\", 'utf-8') + ' (.*)')\n",
    "def hey(message, ans_string):\n",
    "    message.react('+1')\n",
    "\n",
    "# 回覆訊息範例\n",
    "@respond_to('hello$', re.IGNORECASE)\n",
    "def hello_reply(message):\n",
    "    message.reply('hello sender!')\n"
   ]
  },
  {
   "cell_type": "markdown",
   "metadata": {},
   "source": [
    "## Bot Start"
   ]
  },
  {
   "cell_type": "code",
   "execution_count": null,
   "metadata": {
    "collapsed": false
   },
   "outputs": [],
   "source": [
    "main()"
   ]
  },
  {
   "cell_type": "code",
   "execution_count": null,
   "metadata": {
    "collapsed": true
   },
   "outputs": [],
   "source": []
  }
 ],
 "metadata": {
  "kernelspec": {
   "display_name": "Python 2",
   "language": "python",
   "name": "python2"
  },
  "language_info": {
   "codemirror_mode": {
    "name": "ipython",
    "version": 2
   },
   "file_extension": ".py",
   "mimetype": "text/x-python",
   "name": "python",
   "nbconvert_exporter": "python",
   "pygments_lexer": "ipython2",
   "version": "2.7.11"
  }
 },
 "nbformat": 4,
 "nbformat_minor": 0
}
