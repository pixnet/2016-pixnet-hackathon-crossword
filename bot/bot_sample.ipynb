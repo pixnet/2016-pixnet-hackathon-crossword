{
 "cells": [
  {
   "cell_type": "markdown",
   "metadata": {
    "collapsed": false
   },
   "source": [
    "# PIXNET A.I. Cloze Bot Sample Code"
   ]
  },
  {
   "cell_type": "code",
   "execution_count": null,
   "metadata": {
    "collapsed": false
   },
   "outputs": [],
   "source": [
    "# coding=UTF-8\n",
    "\n",
    "import sys, os, datetime, time, re\n",
    "import random\n",
    "from slackbot import bot\n",
    "\n",
    "# 請預先將主辦單位分發的 Bot token 設成環境變數，以避免放置在程式中有外流之疑慮\n",
    "TOKEN_GOGOBOT = os.environ['PIX_PLAYER1']\n",
    "bot.settings.API_TOKEN  = TOKEN_GOGOBOT\n",
    "# testonetwothree 的 Channel ID \n",
    "CHANNEL_ID = \"C1HE9AG3F\" \n",
    "# 出題 Bot 的 ID\n",
    "PIX_MASTER = \"U1JBRR2HW\"\n",
    "bot.settings.DEFAULT_REPLY = \"Sorry but I didn't understand you\"\n",
    "\n",
    "from slackbot.bot import Bot\n",
    "from slackbot.bot import respond_to\n",
    "from slackbot.bot import listen_to"
   ]
  },
  {
   "cell_type": "markdown",
   "metadata": {},
   "source": [
    "##  Main Start Function"
   ]
  },
  {
   "cell_type": "code",
   "execution_count": null,
   "metadata": {
    "collapsed": true
   },
   "outputs": [],
   "source": [
    "def main():\n",
    "    bot = Bot()\n",
    "    bot.run()"
   ]
  },
  {
   "cell_type": "markdown",
   "metadata": {},
   "source": [
    "## Message Handler"
   ]
  },
  {
   "cell_type": "code",
   "execution_count": null,
   "metadata": {
    "collapsed": false
   },
   "outputs": [],
   "source": [
    "ANSWER_LIST = []\n",
    "QUESTION_LIST = []\n",
    "\n",
    "## 取得 quizmaster 丟出的題目內容，並存放於 QUESTION_LIST\n",
    "@listen_to(unicode(\"題目\", 'utf-8') + ' (.*)')\n",
    "def receive_question(message, question):\n",
    "    if message._client.users[message._get_user_id()][u'name'] == \"quizmaster\":\n",
    "        QUESTION_LIST.append(question)\n",
    "\n",
    "## 取得 quizmaster 丟出的答案選項並存放於 options，計算出答案後，將答案存入 ANSWER_LIST\n",
    "@listen_to(unicode(\"選項\", 'utf-8') + ' (.*)')\n",
    "def receive_option(message, option_string):\n",
    "    if message._client.users[message._get_user_id()][u'name'] == \"quizmaster\":\n",
    "        options = []\n",
    "        for item in option_string.split(','):\n",
    "            index, value = item.split(':')\n",
    "            options.append(index)\n",
    "        this_ans = options[random.randint(0, len(options) - 1)]\n",
    "        ## you can assign the answer here, in sample code we generate random answer\n",
    "        ANSWER_LIST.append(this_ans)\n",
    "\n",
    "## 當 quizmaster 丟出 \"機器人小朋友請搶答\"，請儘速把答案丟到 channel     \n",
    "@listen_to(unicode(\"機器人小朋友請搶答\", 'utf-8') +'$')\n",
    "def hello_send(message):\n",
    "    examizer_id = message._get_user_id()\n",
    "    if message._client.users[examizer_id][u'name'] == \"quizmaster\":\n",
    "        reply_ans = \"\"\n",
    "        for ans in ANSWER_LIST:\n",
    "            reply_ans += ans + \" : \"\n",
    "        message.send(\"<@%s>: %s %s\" % (PIX_MASTER, unicode(\"請給分 \", 'utf-8'), reply_ans[:-2]))\n",
    "        ANSWER_LIST[:] = []\n",
    "\n",
    "# 幫按讚\n",
    "@listen_to(unicode(\"題號\", 'utf-8') + ' (.*)')\n",
    "def hey(message, ans_string):\n",
    "    message.react('+1')\n",
    "\n",
    "# 回覆訊息範例\n",
    "@respond_to('hello$', re.IGNORECASE)\n",
    "def hello_reply(message):\n",
    "    message.reply('hello sender!')\n"
   ]
  },
  {
   "cell_type": "markdown",
   "metadata": {},
   "source": [
    "## Bot Start"
   ]
  },
  {
   "cell_type": "code",
   "execution_count": null,
   "metadata": {
    "collapsed": false
   },
   "outputs": [],
   "source": [
    "main()"
   ]
  },
  {
   "cell_type": "code",
   "execution_count": null,
   "metadata": {
    "collapsed": true
   },
   "outputs": [],
   "source": []
  }
 ],
 "metadata": {
  "kernelspec": {
   "display_name": "Python 2",
   "language": "python",
   "name": "python2"
  },
  "language_info": {
   "codemirror_mode": {
    "name": "ipython",
    "version": 2
   },
   "file_extension": ".py",
   "mimetype": "text/x-python",
   "name": "python",
   "nbconvert_exporter": "python",
   "pygments_lexer": "ipython2",
   "version": "2.7.11"
  }
 },
 "nbformat": 4,
 "nbformat_minor": 0
}
